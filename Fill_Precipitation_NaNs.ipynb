{
 "cells": [
  {
   "cell_type": "markdown",
   "id": "7a649268",
   "metadata": {},
   "source": [
    "# Conditional replacement of NaN Values in a Pandas Dataframe\n",
    "This notebook demonstrates how to conditionally fill NaN values in a `precipitation` column of a weather DataFrame, based on values in a `weather` column."
   ]
  },
  {
   "cell_type": "code",
   "execution_count": 32,
   "id": "343ba755",
   "metadata": {},
   "outputs": [
    {
     "data": {
      "text/html": [
       "<div>\n",
       "<style scoped>\n",
       "    .dataframe tbody tr th:only-of-type {\n",
       "        vertical-align: middle;\n",
       "    }\n",
       "\n",
       "    .dataframe tbody tr th {\n",
       "        vertical-align: top;\n",
       "    }\n",
       "\n",
       "    .dataframe thead th {\n",
       "        text-align: right;\n",
       "    }\n",
       "</style>\n",
       "<table border=\"1\" class=\"dataframe\">\n",
       "  <thead>\n",
       "    <tr style=\"text-align: right;\">\n",
       "      <th></th>\n",
       "      <th>weather</th>\n",
       "      <th>precipitation</th>\n",
       "    </tr>\n",
       "  </thead>\n",
       "  <tbody>\n",
       "    <tr>\n",
       "      <th>0</th>\n",
       "      <td>rain</td>\n",
       "      <td>5.2</td>\n",
       "    </tr>\n",
       "    <tr>\n",
       "      <th>1</th>\n",
       "      <td>sun</td>\n",
       "      <td>NaN</td>\n",
       "    </tr>\n",
       "    <tr>\n",
       "      <th>2</th>\n",
       "      <td>snow</td>\n",
       "      <td>4.1</td>\n",
       "    </tr>\n",
       "    <tr>\n",
       "      <th>3</th>\n",
       "      <td>drizzle</td>\n",
       "      <td>NaN</td>\n",
       "    </tr>\n",
       "    <tr>\n",
       "      <th>4</th>\n",
       "      <td>fog</td>\n",
       "      <td>NaN</td>\n",
       "    </tr>\n",
       "    <tr>\n",
       "      <th>5</th>\n",
       "      <td>rain</td>\n",
       "      <td>NaN</td>\n",
       "    </tr>\n",
       "    <tr>\n",
       "      <th>6</th>\n",
       "      <td>snow</td>\n",
       "      <td>3.5</td>\n",
       "    </tr>\n",
       "  </tbody>\n",
       "</table>\n",
       "</div>"
      ],
      "text/plain": [
       "   weather  precipitation\n",
       "0     rain            5.2\n",
       "1      sun            NaN\n",
       "2     snow            4.1\n",
       "3  drizzle            NaN\n",
       "4      fog            NaN\n",
       "5     rain            NaN\n",
       "6     snow            3.5"
      ]
     },
     "execution_count": 32,
     "metadata": {},
     "output_type": "execute_result"
    }
   ],
   "source": [
    "import pandas as pd\n",
    "import numpy as np\n",
    "\n",
    "# Example DataFrame\n",
    "data = {\n",
    "    'weather': ['rain', 'sun', 'snow', 'drizzle', 'fog', 'rain', 'snow'],\n",
    "    'precipitation': [5.2, np.nan, 4.1, np.nan, np.nan, np.nan, 3.5]\n",
    "}\n",
    "df = pd.DataFrame(data)\n",
    "df"
   ]
  },
  {
   "cell_type": "code",
   "execution_count": 33,
   "id": "5fda30ad",
   "metadata": {},
   "outputs": [],
   "source": [
    "# Define wet weather types\n",
    "wet_weather = ['rain', 'snow', 'drizzle']\n",
    "\n",
    "# Calculate mean precipitation \n",
    "mean_precip= df.precipitation.mean()"
   ]
  },
  {
   "cell_type": "markdown",
   "id": "ab8fb17e",
   "metadata": {},
   "source": [
    "## Method 1: Using `loc` for Conditional Assignment"
   ]
  },
  {
   "cell_type": "markdown",
   "id": "f8f31484",
   "metadata": {},
   "source": [
    "This is the most straightforward solution."
   ]
  },
  {
   "cell_type": "code",
   "execution_count": 34,
   "id": "d61279f1",
   "metadata": {},
   "outputs": [
    {
     "data": {
      "text/html": [
       "<div>\n",
       "<style scoped>\n",
       "    .dataframe tbody tr th:only-of-type {\n",
       "        vertical-align: middle;\n",
       "    }\n",
       "\n",
       "    .dataframe tbody tr th {\n",
       "        vertical-align: top;\n",
       "    }\n",
       "\n",
       "    .dataframe thead th {\n",
       "        text-align: right;\n",
       "    }\n",
       "</style>\n",
       "<table border=\"1\" class=\"dataframe\">\n",
       "  <thead>\n",
       "    <tr style=\"text-align: right;\">\n",
       "      <th></th>\n",
       "      <th>weather</th>\n",
       "      <th>precipitation</th>\n",
       "    </tr>\n",
       "  </thead>\n",
       "  <tbody>\n",
       "    <tr>\n",
       "      <th>0</th>\n",
       "      <td>rain</td>\n",
       "      <td>5.200000</td>\n",
       "    </tr>\n",
       "    <tr>\n",
       "      <th>1</th>\n",
       "      <td>sun</td>\n",
       "      <td>NaN</td>\n",
       "    </tr>\n",
       "    <tr>\n",
       "      <th>2</th>\n",
       "      <td>snow</td>\n",
       "      <td>4.100000</td>\n",
       "    </tr>\n",
       "    <tr>\n",
       "      <th>3</th>\n",
       "      <td>drizzle</td>\n",
       "      <td>4.266667</td>\n",
       "    </tr>\n",
       "    <tr>\n",
       "      <th>4</th>\n",
       "      <td>fog</td>\n",
       "      <td>NaN</td>\n",
       "    </tr>\n",
       "    <tr>\n",
       "      <th>5</th>\n",
       "      <td>rain</td>\n",
       "      <td>4.266667</td>\n",
       "    </tr>\n",
       "    <tr>\n",
       "      <th>6</th>\n",
       "      <td>snow</td>\n",
       "      <td>3.500000</td>\n",
       "    </tr>\n",
       "  </tbody>\n",
       "</table>\n",
       "</div>"
      ],
      "text/plain": [
       "   weather  precipitation\n",
       "0     rain       5.200000\n",
       "1      sun            NaN\n",
       "2     snow       4.100000\n",
       "3  drizzle       4.266667\n",
       "4      fog            NaN\n",
       "5     rain       4.266667\n",
       "6     snow       3.500000"
      ]
     },
     "execution_count": 34,
     "metadata": {},
     "output_type": "execute_result"
    }
   ],
   "source": [
    "# Fill NaNs in 'precipitation' where weather is wet\n",
    "df.loc[df['weather'].isin(wet_weather) & df['precipitation'].isna(), 'precipitation'] = mean_precip \n",
    "#loc: [row = (weather is wet and precipitation is NaN), column = precipitation] -> assign the 'mean_precip' value where the condition of the .loc() method are met\n",
    "\n",
    "df"
   ]
  },
  {
   "cell_type": "markdown",
   "id": "a3f675ec",
   "metadata": {},
   "source": [
    "## Method 3: Using `.mask()` for Conditional Filling"
   ]
  },
  {
   "cell_type": "markdown",
   "id": "9e763d07",
   "metadata": {},
   "source": [
    "It is possible to use `.fillna()` — but it’s a bit trickier because `.fillna()` works on a column or Series as a whole, and it doesn't support conditional filling out of the box. However, you can combine it cleverly with `.where()` or `.mask()` to mimic the same behavior.\n",
    "\n",
    "Here’s a clean way to do it using `.fillna()` with `.mask()`:"
   ]
  },
  {
   "cell_type": "markdown",
   "id": "a1f2f75b",
   "metadata": {},
   "source": [
    "`DataFrame.mask(cond, other=<no_default>, *, inplace=False, axis=None, level=None)`\n",
    "\n",
    "This function replaces values where the __condition is True__"
   ]
  },
  {
   "cell_type": "code",
   "execution_count": 35,
   "id": "c8a94d0e",
   "metadata": {},
   "outputs": [
    {
     "data": {
      "text/html": [
       "<div>\n",
       "<style scoped>\n",
       "    .dataframe tbody tr th:only-of-type {\n",
       "        vertical-align: middle;\n",
       "    }\n",
       "\n",
       "    .dataframe tbody tr th {\n",
       "        vertical-align: top;\n",
       "    }\n",
       "\n",
       "    .dataframe thead th {\n",
       "        text-align: right;\n",
       "    }\n",
       "</style>\n",
       "<table border=\"1\" class=\"dataframe\">\n",
       "  <thead>\n",
       "    <tr style=\"text-align: right;\">\n",
       "      <th></th>\n",
       "      <th>weather</th>\n",
       "      <th>precipitation</th>\n",
       "    </tr>\n",
       "  </thead>\n",
       "  <tbody>\n",
       "    <tr>\n",
       "      <th>0</th>\n",
       "      <td>rain</td>\n",
       "      <td>5.200000</td>\n",
       "    </tr>\n",
       "    <tr>\n",
       "      <th>1</th>\n",
       "      <td>sun</td>\n",
       "      <td>NaN</td>\n",
       "    </tr>\n",
       "    <tr>\n",
       "      <th>2</th>\n",
       "      <td>snow</td>\n",
       "      <td>4.100000</td>\n",
       "    </tr>\n",
       "    <tr>\n",
       "      <th>3</th>\n",
       "      <td>drizzle</td>\n",
       "      <td>4.266667</td>\n",
       "    </tr>\n",
       "    <tr>\n",
       "      <th>4</th>\n",
       "      <td>fog</td>\n",
       "      <td>NaN</td>\n",
       "    </tr>\n",
       "    <tr>\n",
       "      <th>5</th>\n",
       "      <td>rain</td>\n",
       "      <td>4.266667</td>\n",
       "    </tr>\n",
       "    <tr>\n",
       "      <th>6</th>\n",
       "      <td>snow</td>\n",
       "      <td>3.500000</td>\n",
       "    </tr>\n",
       "  </tbody>\n",
       "</table>\n",
       "</div>"
      ],
      "text/plain": [
       "   weather  precipitation\n",
       "0     rain       5.200000\n",
       "1      sun            NaN\n",
       "2     snow       4.100000\n",
       "3  drizzle       4.266667\n",
       "4      fog            NaN\n",
       "5     rain       4.266667\n",
       "6     snow       3.500000"
      ]
     },
     "execution_count": 35,
     "metadata": {},
     "output_type": "execute_result"
    }
   ],
   "source": [
    "# Recreate the original DataFrame for a fresh example\n",
    "df = pd.DataFrame(data)\n",
    "\n",
    "# Fill NaNs conditionally using mask\n",
    "df['precipitation'] = df['precipitation'].mask(\n",
    "    df['precipitation'].isna() & df['weather'].isin(wet_weather),\n",
    "    mean_precip\n",
    ")\n",
    "df"
   ]
  },
  {
   "cell_type": "markdown",
   "id": "758000b5",
   "metadata": {},
   "source": [
    "## Method 2: Using `.fillna()` and `.where()` for Conditional Filling"
   ]
  },
  {
   "cell_type": "markdown",
   "id": "58364da8",
   "metadata": {},
   "source": [
    "`DataFrame.where(cond, other=nan, *, inplace=False, axis=None, level=None)`\n",
    "\n",
    "This function replaces values where the __condition is False__"
   ]
  },
  {
   "cell_type": "code",
   "execution_count": 36,
   "id": "7a53c1be",
   "metadata": {},
   "outputs": [
    {
     "data": {
      "text/html": [
       "<div>\n",
       "<style scoped>\n",
       "    .dataframe tbody tr th:only-of-type {\n",
       "        vertical-align: middle;\n",
       "    }\n",
       "\n",
       "    .dataframe tbody tr th {\n",
       "        vertical-align: top;\n",
       "    }\n",
       "\n",
       "    .dataframe thead th {\n",
       "        text-align: right;\n",
       "    }\n",
       "</style>\n",
       "<table border=\"1\" class=\"dataframe\">\n",
       "  <thead>\n",
       "    <tr style=\"text-align: right;\">\n",
       "      <th></th>\n",
       "      <th>weather</th>\n",
       "      <th>precipitation</th>\n",
       "    </tr>\n",
       "  </thead>\n",
       "  <tbody>\n",
       "    <tr>\n",
       "      <th>0</th>\n",
       "      <td>rain</td>\n",
       "      <td>5.200000</td>\n",
       "    </tr>\n",
       "    <tr>\n",
       "      <th>1</th>\n",
       "      <td>sun</td>\n",
       "      <td>NaN</td>\n",
       "    </tr>\n",
       "    <tr>\n",
       "      <th>2</th>\n",
       "      <td>snow</td>\n",
       "      <td>4.100000</td>\n",
       "    </tr>\n",
       "    <tr>\n",
       "      <th>3</th>\n",
       "      <td>drizzle</td>\n",
       "      <td>4.266667</td>\n",
       "    </tr>\n",
       "    <tr>\n",
       "      <th>4</th>\n",
       "      <td>fog</td>\n",
       "      <td>NaN</td>\n",
       "    </tr>\n",
       "    <tr>\n",
       "      <th>5</th>\n",
       "      <td>rain</td>\n",
       "      <td>4.266667</td>\n",
       "    </tr>\n",
       "    <tr>\n",
       "      <th>6</th>\n",
       "      <td>snow</td>\n",
       "      <td>3.500000</td>\n",
       "    </tr>\n",
       "  </tbody>\n",
       "</table>\n",
       "</div>"
      ],
      "text/plain": [
       "   weather  precipitation\n",
       "0     rain       5.200000\n",
       "1      sun            NaN\n",
       "2     snow       4.100000\n",
       "3  drizzle       4.266667\n",
       "4      fog            NaN\n",
       "5     rain       4.266667\n",
       "6     snow       3.500000"
      ]
     },
     "execution_count": 36,
     "metadata": {},
     "output_type": "execute_result"
    }
   ],
   "source": [
    "\n",
    "# Recreate the original DataFrame for a fresh example\n",
    "df = pd.DataFrame(data)\n",
    "\n",
    "# Fill NaN values in 'precipitation' ONLY for rows with wet weather\n",
    "df['precipitation'] = df['precipitation'].where(\n",
    "    ~df['weather'].isin(wet_weather), # Condition: True = weather is NOT wet, False = weather is wet, as the '~' sign (=bitwise NOT operator) inverts True/False\n",
    "    df['precipitation'].fillna(mean_precip) # Other: Fill the ones where condition is False with 'mean_precip'\n",
    ")\n",
    "df"
   ]
  }
 ],
 "metadata": {
  "kernelspec": {
   "display_name": "Python 3",
   "language": "python",
   "name": "python3"
  },
  "language_info": {
   "name": "python",
   "version": "3.8"
  }
 },
 "nbformat": 4,
 "nbformat_minor": 5
}
